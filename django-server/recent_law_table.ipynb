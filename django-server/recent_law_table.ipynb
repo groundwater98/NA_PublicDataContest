{
 "cells": [
  {
   "cell_type": "code",
   "execution_count": 1,
   "metadata": {},
   "outputs": [],
   "source": [
    "import chromadb\n",
    "import numpy as np\n",
    "import pandas as pd"
   ]
  },
  {
   "cell_type": "markdown",
   "metadata": {},
   "source": [
    "# Vector DB - Chroma DB 구축"
   ]
  },
  {
   "cell_type": "code",
   "execution_count": 2,
   "metadata": {},
   "outputs": [],
   "source": [
    "df = pd.read_csv('날짜별_의정활동.csv')"
   ]
  },
  {
   "cell_type": "code",
   "execution_count": 7,
   "metadata": {},
   "outputs": [],
   "source": [
    "client = chromadb.PersistentClient(path=\"chromadb\")\n",
    "\n",
    "collection = client.get_or_create_collection(\n",
    "    name=\"law_table\",\n",
    "    metadata={\"hnsw:space\": \"cosine\"}\n",
    ")"
   ]
  },
  {
   "cell_type": "code",
   "execution_count": 8,
   "metadata": {},
   "outputs": [],
   "source": [
    "# 인덱스\n",
    "ids = []\n",
    "# 메타 데이터\n",
    "doc_meta = []\n",
    "# 벡터로 변환 저장할 텍스트 데이터로 ChromaDB에 Embedding 데이터가 없으면 자동으로 벡터로 변환해서 저장한다고 한다. \n",
    "documents = []"
   ]
  },
  {
   "cell_type": "code",
   "execution_count": 9,
   "metadata": {},
   "outputs": [],
   "source": [
    "for idx in range(len(df)):\n",
    "    # iloc: index 위치를 기반으로 df에서 행을 선택\n",
    "    item = df.iloc[idx]\n",
    "    id = item['의안명'].replace(' ', '-')\n",
    "    document = f\"(의안명: {item['의안명']}) (의안 일자: {item['일자']}) (의안번호: {item['의안번호']}) - 단계:{item['단계']}, 세부단계: {item['세부단계']}, 소관위원회: {item['소관위원회']}\"\n",
    "    meta = {\n",
    "        \"카테고리\": item['카테고리']\n",
    "    }\n",
    "    ids.append(id)\n",
    "    doc_meta.append(meta)\n",
    "    documents.append(document)"
   ]
  },
  {
   "cell_type": "markdown",
   "metadata": {},
   "source": [
    "# DB 저장"
   ]
  },
  {
   "cell_type": "code",
   "execution_count": 10,
   "metadata": {},
   "outputs": [],
   "source": [
    "collection.add(\n",
    "    documents = documents,\n",
    "    metadatas=doc_meta,\n",
    "    ids=ids\n",
    ")"
   ]
  },
  {
   "cell_type": "markdown",
   "metadata": {},
   "source": [
    "# DB 쿼리"
   ]
  },
  {
   "cell_type": "code",
   "execution_count": 14,
   "metadata": {},
   "outputs": [
    {
     "data": {
      "text/plain": [
       "{'ids': [['공유재산특례제한법안(정부)', '공유재산-및-물품-관리법-일부개정법률안(이용호의원-등-11인)']],\n",
       " 'distances': [[0.48423445224761963, 0.7289931774139404]],\n",
       " 'metadatas': [[{'카테고리': '경제'}, {'카테고리': '경제'}]],\n",
       " 'embeddings': None,\n",
       " 'documents': [['(의안명: 공유재산특례제한법안(정부)) (의안 일자: 2023-11-22) (의안번호: 2113019) - 단계:위원회 심사, 세부단계: 회의, 소관위원회: 행정안전위원회',\n",
       "   '(의안명: 공유재산 및 물품 관리법 일부개정법률안(이용호의원 등 11인)) (의안 일자: 2023-11-22) (의안번호: 2125548) - 단계:위원회 심사, 세부단계: 회부, 소관위원회: 행정안전위원회']]}"
      ]
     },
     "execution_count": 14,
     "metadata": {},
     "output_type": "execute_result"
    }
   ],
   "source": [
    "collection.query(\n",
    "    query_texts=[\"재산\"],\n",
    "    n_results=5,\n",
    "    where={\"카테고리\":\"경제\"},\n",
    "    where_document={\"$contains\": \"재산\"}\n",
    ")"
   ]
  }
 ],
 "metadata": {
  "kernelspec": {
   "display_name": "Python 3 (ipykernel)",
   "language": "python",
   "name": "python3"
  }
 },
 "nbformat": 4,
 "nbformat_minor": 2
}
