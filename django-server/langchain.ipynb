{
 "cells": [
  {
   "cell_type": "markdown",
   "metadata": {},
   "source": [
    "# 1. 기본 프롬프트"
   ]
  },
  {
   "cell_type": "code",
   "execution_count": 16,
   "metadata": {},
   "outputs": [
    {
     "name": "stdout",
     "output_type": "stream",
     "text": [
      "\n",
      "\n",
      "1. Guns N' Roses - Paradise City \n",
      "2. Metallica - Enter Sandman \n",
      "3. Bon Jovi - Livin' On A Prayer \n",
      "4. Judas Priest - Painkiller \n",
      "5. AC/DC - Back In Black\n"
     ]
    }
   ],
   "source": [
    "from langchain.llms import OpenAI\n",
    "import os\n",
    "import config as cfg\n",
    "\n",
    "os.environ['OPENAI_API_KEY'] = cfg.gpt_config[\"api_key\"]\n",
    "\n",
    "llm = OpenAI(model_name='text-davinci-003', temperature=0.9)\n",
    "print(llm('1980년대 메탈 음악 5곡 추천해줘.'))"
   ]
  },
  {
   "cell_type": "markdown",
   "metadata": {},
   "source": [
    "# Load chroma DB"
   ]
  },
  {
   "cell_type": "code",
   "execution_count": 2,
   "metadata": {},
   "outputs": [],
   "source": [
    "import chromadb\n",
    "client = chromadb.PersistentClient(path=\"chromadb\")\n",
    "    \n",
    "collection1 = client.get_or_create_collection(\n",
    "    name=\"law_table\",\n",
    "    metadata={\"hnsw:space\": \"cosine\"}\n",
    ")\n",
    "\n",
    "collection2 = client.get_or_create_collection(\n",
    "    name=\"detail_law_table\",\n",
    "    metadata={\"hnsw:space\": \"cosine\"}\n",
    ")\n",
    "\n",
    "query_results_1 = collection1.query(\n",
    "    query_texts=[\"인권\"],\n",
    "    n_results=5,\n",
    "    where={\"카테고리\":\"인권\"},\n",
    ")\n",
    "    \n",
    "query_results_2 = collection2.query(\n",
    "    query_texts=[\"인권\"],\n",
    "    n_results=5,\n",
    "    where={\"카테고리\":\"인권\"},\n",
    ")\n",
    "\n",
    "   \n",
    "documents_list1 = [doc for sublist in query_results_1['documents'] for doc in sublist]\n",
    "documents_list2 = [doc for sublist in query_results_2['documents'] for doc in sublist]\n",
    "    \n",
    "list1 = str(documents_list1)\n",
    "list2 = str(documents_list2)"
   ]
  },
  {
   "cell_type": "markdown",
   "metadata": {},
   "source": [
    "# GPT 3-5"
   ]
  },
  {
   "cell_type": "code",
   "execution_count": 15,
   "metadata": {},
   "outputs": [
    {
     "name": "stdout",
     "output_type": "stream",
     "text": [
      "물론입니다! 1980년대 메탈 음악의 대표적인 곡 5곡을 추천해 드리겠습니다:\n",
      "\n",
      "1. Iron Maiden - \"The Number of the Beast\"\n",
      "2. Judas Priest - \"Breaking the Law\"\n",
      "3. Metallica - \"Master of Puppets\"\n",
      "4. Black Sabbath - \"Paranoid\"\n",
      "5. Slayer - \"Angel of Death\"\n",
      "\n",
      "이 곡들은 1980년대 메탈 음악의 다양한 스타일과 풍미를 대표하는 곡들입니다. 즐겁게 감상해보시기 바랍니다!\n"
     ]
    }
   ],
   "source": [
    "from langchain.chat_models import ChatOpenAI\n",
    "from langchain.schema import (\n",
    "    AIMessage,\n",
    "    HumanMessage,\n",
    "    SystemMessage\n",
    ")\n",
    "\n",
    "chat = ChatOpenAI(model_name='gpt-3.5-turbo', temperature=0.9)\n",
    "sys = SystemMessage(content=\"당신은 음악 추천을 해주는 전문 AI입니다.\")\n",
    "msg = HumanMessage(content='1980년대 메탈 음악 5곡 추천해줘.')\n",
    "\n",
    "aimsg = chat([sys, msg])\n",
    "print(aimsg.content)"
   ]
  },
  {
   "cell_type": "markdown",
   "metadata": {},
   "source": [
    "# 2. 프롬프트 템플릿"
   ]
  },
  {
   "cell_type": "code",
   "execution_count": 3,
   "metadata": {},
   "outputs": [
    {
     "data": {
      "text/plain": [
       "'국회의 최신 안건을 정리해줘'"
      ]
     },
     "execution_count": 3,
     "metadata": {},
     "output_type": "execute_result"
    }
   ],
   "source": [
    "from langchain.prompts import PromptTemplate\n",
    "\n",
    "'''\n",
    "prompt = PromptTemplate(\n",
    "    input_variables=[\"상품\"],\n",
    "    template=\"{상품} 만드는 회사 이름 추천해줘. 기억에 남는 한글 이름으로\"\n",
    ")\n",
    "\n",
    "prompt.format(상품=\"AI 여행 추천서비스\")\n",
    "'''\n",
    "prompt = PromptTemplate(\n",
    "    input_variables=[\"상품\"],\n",
    "    template=\"{기관}의 최신 안건을 잘 정리해줘\"\n",
    ")\n",
    "\n",
    "prompt.format(기관=\"국회\")"
   ]
  },
  {
   "cell_type": "code",
   "execution_count": 14,
   "metadata": {},
   "outputs": [
    {
     "name": "stdout",
     "output_type": "stream",
     "text": [
      "- 장애인권리보장법안(대안)(보건복지위원장)\n",
      "  - 의안 일자: 2023-11-23\n",
      "  - 의안번호: DD11479\n",
      "  - 단계: 접수\n",
      "  - 세부단계: 제안\n",
      "  - 소관위원회: -\n",
      "\n",
      "- 희귀질환관리법 일부개정법률안(대안)(보건복지위원장)\n",
      "  - 의안 일자: 2023-11-23\n",
      "  - 의안번호: DD11482\n",
      "  - 단계: 접수\n",
      "  - 세부단계: 제안\n",
      "  - 소관위원회: -\n",
      "\n",
      "- 주민등록법 일부개정법률안(대안)(행정안전위원장)\n",
      "  - 의안 일자: 2023-11-23\n",
      "  - 의안번호: DD11488\n",
      "  - 단계: 접수\n",
      "  - 세부단계: 제안\n",
      "  - 소관위원회: -\n",
      "\n",
      "- 병역법 일부개정법률안(대안)(국방위원장)\n",
      "  - 의안 일자: 2023-11-23\n",
      "  - 의안번호: DD11476\n",
      "  - 단계: 접수\n",
      "  - 세부단계: 제안\n",
      "  - 소관위원회: -\n",
      "\n",
      "- 장애인차별금지 및 권리구제 등에 관한 법률 일부개정법률안(노웅래의원 등 10인)\n",
      "  - 의안 일자: 2023-11-22\n",
      "  - 의안번호: 2125551\n",
      "  - 단계: 위원회 심사\n",
      "  - 세부단계: 회부\n",
      "  - 소관위원회: 보건복지위원회\n"
     ]
    }
   ],
   "source": [
    "from langchain.chains import LLMChain\n",
    "\n",
    "chain = LLMChain(llm=chat, prompt=prompt)\n",
    "\n",
    "print(chain.run(기관=list1))"
   ]
  },
  {
   "cell_type": "markdown",
   "metadata": {},
   "source": [
    "# ChatPromptTemplete & Chain\n",
    "위 프롬프트 템플릿과 동일하지만 더 많은 기능을 사용할 수 있다.\n",
    "system prompt, user prompty를 구분해서 사용할 수 있으며, input에 대한 언어와 output에 대한 언어를 설정할 수 있다.\n",
    "run할 때는 input_language, output_language, text 3개의 값을 넘긴다. "
   ]
  },
  {
   "cell_type": "code",
   "execution_count": 13,
   "metadata": {},
   "outputs": [
    {
     "name": "stdout",
     "output_type": "stream",
     "text": [
      "국회의 최신 안건들은 다음과 같습니다:\n",
      "\n",
      "1. 제대군인지원에 관한 법률 일부개정법률안\n",
      "   - 제안일: 2023-06-20\n",
      "   - 의결결과: 원안가결\n",
      "   - 총투표수: 241.0, 찬성: 240.0, 반대: nan, 기권: 1.0\n",
      "   - 위원회심사 의결일: 2023-04-06, 본회의심의 의결일: 2023-06-21, 정부이송일: 2023-06-30, 공포일: 2023-07-11\n",
      "   - 링크URL: [링크 바로가기](https://likms.assembly.go.kr/bill/billDetail.do?billId=PRC_X2N3P0J4I0V3C1D3F3K1X4F8N4A8Y8)\n",
      "\n",
      "2. 주민등록법 일부개정법률안\n",
      "   - 제안일: 2023-07-26\n",
      "   - 의결결과: 원안가결\n",
      "   - 총투표수: 244.0, 찬성: 242.0, 반대: nan, 기권: 2.0\n",
      "   - 위원회심사 의결일: 2023-03-22, 본회의심의 의결일: 2023-07-27, 정부이송일: 2023-08-04, 공포일: 2023-08-16\n",
      "   - 링크URL: [링크 바로가기](https://likms.assembly.go.kr/bill/billDetail.do?billId=PRC_V2E3J0X3W2F1X1T4L5Y8Z2G1R6U0H8)\n",
      "\n",
      "3. 여수ㆍ순천 10ㆍ19사건 진상규명 및 희생자 명예회복에 관한 특별법 일부개정법률안\n",
      "   - 제안일: 2023-07-26\n",
      "   - 의결결과: 원안가결\n",
      "   - 총투표수: 240.0, 찬성: 215.0, 반대: 4.0, 기권: 21.0\n",
      "   - 위원회심사 의결일: 2023-04-25, 본회의심의 의결일: 2023-07-27, 정부이송일: 2023-08-04, 공포일: 2023-08-16\n",
      "   - 링크URL: [링크 바로가기](https://likms.assembly.go.kr/bill/billDetail.do?billId=PRC_U2C3R0W4F2M4U1M7B2X9J3Z7S5M7P5)\n",
      "\n",
      "4. 장애인 건강권 및 의료접근성 보장에 관한 법률 일부개정법률안\n",
      "   - 제안일: 2023-05-18\n",
      "   - 의결결과: 원안가결\n",
      "   - 총투표수: 181.0, 찬성: 177.0, 반대: nan, 기권: 4.0\n",
      "   - 위원회심사 의결일: 2023-02-24, 본회의심의 의결일: 2023-05-25, 정부이송일: 2023-06-02, 공포일: 2023-06-13\n",
      "   - 링크URL: [링크 바로가기](https://likms.assembly.go.kr/bill/billDetail.do?billId=PRC_U2S3C0T2C1V6Q1L0U5D9J0F3B3P7A1)\n",
      "\n",
      "5. 해양사고의 조사 및 심판에 관한 법률 일부개정법률안\n",
      "   - 제안일: 2023-08-23\n",
      "   - 의결결과: 원안가결\n",
      "   - 총투표수: 205.0, 찬성: 203.0, 반대: nan, 기권: 2.0\n",
      "   - 위원회심사 의결일: 2023-05-11, 본회의심의 의결일: 2023-08-24, 정부이송일: 2023-09-01, 공포일: 2023-09-14\n",
      "   - 링크URL: [링크 바로가기](https://likms.assembly.go.kr/bill/billDetail.do?billId=PRC_Q2C3A0X5Z1W1V1V1S5S5U2M8T5C4Z4)\n"
     ]
    }
   ],
   "source": [
    "from langchain.chat_models import ChatOpenAI\n",
    "from langchain.prompts.chat import(\n",
    "    ChatPromptTemplate,\n",
    "    SystemMessagePromptTemplate,\n",
    "    HumanMessagePromptTemplate\n",
    ")\n",
    "\n",
    "chat = ChatOpenAI(temperature=0)\n",
    "\n",
    "template=\"입력으로 받은 국회의 최신 안건들을 잘 정리해줘\"\n",
    "system_message_prompt = SystemMessagePromptTemplate.from_template(template)\n",
    "human_template = \"{text}\"\n",
    "human_message_prompt = HumanMessagePromptTemplate.from_template(human_template)\n",
    "\n",
    "chat_prompt = ChatPromptTemplate.from_messages([system_message_prompt, human_message_prompt])\n",
    "\n",
    "chatchain = LLMChain(llm=chat, prompt=chat_prompt)\n",
    "print(chatchain.run(text=list2))"
   ]
  }
 ],
 "metadata": {
  "kernelspec": {
   "display_name": "Python 3 (ipykernel)",
   "language": "python",
   "name": "python3"
  },
  "language_info": {
   "codemirror_mode": {
    "name": "ipython",
    "version": 3
   },
   "file_extension": ".py",
   "mimetype": "text/x-python",
   "name": "python",
   "nbconvert_exporter": "python",
   "pygments_lexer": "ipython3",
   "version": "3.10.6"
  }
 },
 "nbformat": 4,
 "nbformat_minor": 2
}
