{
 "cells": [
  {
   "cell_type": "code",
   "execution_count": 1,
   "metadata": {},
   "outputs": [],
   "source": [
    "import chromadb\n",
    "import numpy as np\n",
    "import pandas as pd"
   ]
  },
  {
   "cell_type": "markdown",
   "metadata": {},
   "source": [
    "# Vector DB - Chroma DB 구축"
   ]
  },
  {
   "cell_type": "code",
   "execution_count": 20,
   "metadata": {},
   "outputs": [],
   "source": [
    "df = pd.read_csv('날짜별_의정활동.csv')"
   ]
  },
  {
   "cell_type": "code",
   "execution_count": 7,
   "metadata": {},
   "outputs": [],
   "source": [
    "client = chromadb.PersistentClient(path=\"../data\")\n",
    "collection = client.get_or_create_collection(\n",
    "    name=\"legal_info\",\n",
    "    metadata={\"hnsw:space\": \"cosine\"}\n",
    ")"
   ]
  },
  {
   "cell_type": "code",
   "execution_count": 21,
   "metadata": {},
   "outputs": [],
   "source": [
    "# 인덱스\n",
    "ids = []\n",
    "# 메타 데이터\n",
    "doc_meta = []\n",
    "# 벡터로 변환 저장할 텍스트 데이터로 ChromaDB에 Embedding 데이터가 없으면 자동으로 벡터로 변환해서 저장한다고 한다. \n",
    "documents = []"
   ]
  },
  {
   "cell_type": "code",
   "execution_count": 22,
   "metadata": {},
   "outputs": [],
   "source": [
    "for idx in range(len(df)):\n",
    "    # iloc: index 위치를 기반으로 df에서 행을 선택\n",
    "    item = df.iloc[idx]\n",
    "    id = item['의안명'].replace(' ', '-')\n",
    "    document = f\"(의안명: {item['의안명']}) (의안번호: {item['의안번호']}) - 단계:{item['단계']}, 세부단계: {item['세부단계']}, 소관위원회: {item['소관위원회']}\"\n",
    "    meta = {\n",
    "        \"발의 일자\": item['일자']\n",
    "    }\n",
    "    ids.append(id)\n",
    "    doc_meta.append(meta)\n",
    "    documents.append(document)"
   ]
  },
  {
   "cell_type": "markdown",
   "metadata": {},
   "source": [
    "# DB 저장"
   ]
  },
  {
   "cell_type": "code",
   "execution_count": 23,
   "metadata": {},
   "outputs": [
    {
     "name": "stderr",
     "output_type": "stream",
     "text": [
      "/home/jisoo/.cache/chroma/onnx_models/all-MiniLM-L6-v2/onnx.tar.gz: 100%|████████████████| 79.3M/79.3M [00:12<00:00, 6.90MiB/s]\n"
     ]
    }
   ],
   "source": [
    "collection.add(\n",
    "    documents = documents,\n",
    "    metadatas=doc_meta,\n",
    "    ids=ids\n",
    ")"
   ]
  },
  {
   "cell_type": "markdown",
   "metadata": {},
   "source": [
    "# DB 쿼리"
   ]
  },
  {
   "cell_type": "code",
   "execution_count": 40,
   "metadata": {},
   "outputs": [
    {
     "data": {
      "text/plain": [
       "{'ids': [['온실가스-배출권의-할당-및-거래에-관한-법률-일부개정법률안(대안)(환경노동위원장)',\n",
       "   '지진·지진해일·화산의-관측-및-경보에-관한-법률-일부개정법률안(대안)(환경노동위원장)',\n",
       "   '기상관측표준화법-일부개정법률안(대안)(환경노동위원장)',\n",
       "   '기부금품의-모집-및-사용에-관한-법률-일부개정법률안(대안)(행정안전위원장)',\n",
       "   '경찰관-직무집행법-일부개정법률안(대안)(행정안전위원장)']],\n",
       " 'distances': [[0.4240432381629944,\n",
       "   0.43123602867126465,\n",
       "   0.4345512390136719,\n",
       "   0.4350278377532959,\n",
       "   0.4389246702194214]],\n",
       " 'metadatas': [[{'발의 일자': '2023-11-23'},\n",
       "   {'발의 일자': '2023-11-23'},\n",
       "   {'발의 일자': '2023-11-23'},\n",
       "   {'발의 일자': '2023-11-23'},\n",
       "   {'발의 일자': '2023-11-23'}]],\n",
       " 'embeddings': None,\n",
       " 'documents': [['(의안명: 온실가스 배출권의 할당 및 거래에 관한 법률 일부개정법률안(대안)(환경노동위원장)) (의안번호: DD11471) - 단계:접수, 세부단계: 제안, 소관위원회: -',\n",
       "   '(의안명: 지진·지진해일·화산의 관측 및 경보에 관한 법률 일부개정법률안(대안)(환경노동위원장)) (의안번호: DD11473) - 단계:접수, 세부단계: 제안, 소관위원회: -',\n",
       "   '(의안명: 기상관측표준화법 일부개정법률안(대안)(환경노동위원장)) (의안번호: DD11472) - 단계:접수, 세부단계: 제안, 소관위원회: -',\n",
       "   '(의안명: 기부금품의 모집 및 사용에 관한 법률 일부개정법률안(대안)(행정안전위원장)) (의안번호: DD11487) - 단계:접수, 세부단계: 제안, 소관위원회: -',\n",
       "   '(의안명: 경찰관 직무집행법 일부개정법률안(대안)(행정안전위원장)) (의안번호: DD11495) - 단계:접수, 세부단계: 제안, 소관위원회: -']],\n",
       " 'uris': None,\n",
       " 'data': None}"
      ]
     },
     "execution_count": 40,
     "metadata": {},
     "output_type": "execute_result"
    }
   ],
   "source": [
    "collection.query(\n",
    "    query_texts=[\"경찰공무원법\"],\n",
    "    n_results=5,\n",
    "    where={\"발의 일자\":\"2023-11-23\"},\n",
    ")"
   ]
  }
 ],
 "metadata": {
  "kernelspec": {
   "display_name": "Python 3 (ipykernel)",
   "language": "python",
   "name": "python3"
  },
  "language_info": {
   "codemirror_mode": {
    "name": "ipython",
    "version": 3
   },
   "file_extension": ".py",
   "mimetype": "text/x-python",
   "name": "python",
   "nbconvert_exporter": "python",
   "pygments_lexer": "ipython3",
   "version": "3.10.6"
  }
 },
 "nbformat": 4,
 "nbformat_minor": 2
}
