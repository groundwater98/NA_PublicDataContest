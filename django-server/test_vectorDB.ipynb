{
 "cells": [
  {
   "cell_type": "code",
   "execution_count": 1,
   "metadata": {},
   "outputs": [],
   "source": [
    "import chromadb\n",
    "import numpy as np\n",
    "import pandas as pd"
   ]
  },
  {
   "cell_type": "markdown",
   "metadata": {},
   "source": [
    "# Vector DB - Chroma DB 구축"
   ]
  },
  {
   "cell_type": "code",
   "execution_count": 20,
   "metadata": {},
   "outputs": [],
   "source": [
    "df = pd.read_csv('날짜별_의정활동.csv')"
   ]
  },
  {
   "cell_type": "code",
   "execution_count": 7,
   "metadata": {},
   "outputs": [],
   "source": [
    "client = chromadb.PersistentClient(path=\"../data\")\n",
    "collection = client.get_or_create_collection(\n",
    "    name=\"legal_info\",\n",
    "    metadata={\"hnsw:space\": \"cosine\"}\n",
    ")"
   ]
  },
  {
   "cell_type": "code",
   "execution_count": 21,
   "metadata": {},
   "outputs": [],
   "source": [
    "# 인덱스\n",
    "ids = []\n",
    "# 메타 데이터\n",
    "doc_meta = []\n",
    "# 벡터로 변환 저장할 텍스트 데이터로 ChromaDB에 Embedding 데이터가 없으면 자동으로 벡터로 변환해서 저장한다고 한다. \n",
    "documents = []"
   ]
  },
  {
   "cell_type": "code",
   "execution_count": 22,
   "metadata": {},
   "outputs": [],
   "source": [
    "for idx in range(len(df)):\n",
    "    # iloc: index 위치를 기반으로 df에서 행을 선택\n",
    "    item = df.iloc[idx]\n",
    "    id = item['의안명'].replace(' ', '-')\n",
    "    document = f\"(의안명: {item['의안명']}) (의안번호: {item['의안번호']}) - 단계:{item['단계']}, 세부단계: {item['세부단계']}, 소관위원회: {item['소관위원회']}\"\n",
    "    meta = {\n",
    "        \"발의 일자\": item['일자']\n",
    "    }\n",
    "    ids.append(id)\n",
    "    doc_meta.append(meta)\n",
    "    documents.append(document)"
   ]
  },
  {
   "cell_type": "markdown",
   "metadata": {},
   "source": [
    "# DB 저장"
   ]
  },
  {
   "cell_type": "code",
   "execution_count": 23,
   "metadata": {},
   "outputs": [
    {
     "name": "stderr",
     "output_type": "stream",
     "text": [
      "/home/jisoo/.cache/chroma/onnx_models/all-MiniLM-L6-v2/onnx.tar.gz: 100%|████████████████| 79.3M/79.3M [00:12<00:00, 6.90MiB/s]\n"
     ]
    }
   ],
   "source": [
    "collection.add(\n",
    "    documents = documents,\n",
    "    metadatas=doc_meta,\n",
    "    ids=ids\n",
    ")"
   ]
  },
  {
   "cell_type": "markdown",
   "metadata": {},
   "source": [
    "# DB 쿼리"
   ]
  },
  {
   "cell_type": "code",
   "execution_count": 38,
   "metadata": {},
   "outputs": [
    {
     "ename": "ValueError",
     "evalue": "Expected where value to be a str, int, float, or operator expression, got ['BETWEEN', '2023-11-01', 'AND', '2023-11-23']",
     "output_type": "error",
     "traceback": [
      "\u001b[0;31m---------------------------------------------------------------------------\u001b[0m",
      "\u001b[0;31mValueError\u001b[0m                                Traceback (most recent call last)",
      "\u001b[1;32mc:\\Users\\starp\\국회공공데이터공모전\\NA_PublicDataContest\\django-server\\test_vectorDB.ipynb Cell 10\u001b[0m line \u001b[0;36m1\n\u001b[0;32m----> <a href='vscode-notebook-cell:/c%3A/Users/starp/%EA%B5%AD%ED%9A%8C%EA%B3%B5%EA%B3%B5%EB%8D%B0%EC%9D%B4%ED%84%B0%EA%B3%B5%EB%AA%A8%EC%A0%84/NA_PublicDataContest/django-server/test_vectorDB.ipynb#X13sZmlsZQ%3D%3D?line=0'>1</a>\u001b[0m collection\u001b[39m.\u001b[39;49mquery(\n\u001b[1;32m      <a href='vscode-notebook-cell:/c%3A/Users/starp/%EA%B5%AD%ED%9A%8C%EA%B3%B5%EA%B3%B5%EB%8D%B0%EC%9D%B4%ED%84%B0%EA%B3%B5%EB%AA%A8%EC%A0%84/NA_PublicDataContest/django-server/test_vectorDB.ipynb#X13sZmlsZQ%3D%3D?line=1'>2</a>\u001b[0m     query_texts\u001b[39m=\u001b[39;49m[\u001b[39m\"\u001b[39;49m\u001b[39m경찰공무원법\u001b[39;49m\u001b[39m\"\u001b[39;49m],\n\u001b[1;32m      <a href='vscode-notebook-cell:/c%3A/Users/starp/%EA%B5%AD%ED%9A%8C%EA%B3%B5%EA%B3%B5%EB%8D%B0%EC%9D%B4%ED%84%B0%EA%B3%B5%EB%AA%A8%EC%A0%84/NA_PublicDataContest/django-server/test_vectorDB.ipynb#X13sZmlsZQ%3D%3D?line=2'>3</a>\u001b[0m     n_results\u001b[39m=\u001b[39;49m\u001b[39m5\u001b[39;49m,\n\u001b[1;32m      <a href='vscode-notebook-cell:/c%3A/Users/starp/%EA%B5%AD%ED%9A%8C%EA%B3%B5%EA%B3%B5%EB%8D%B0%EC%9D%B4%ED%84%B0%EA%B3%B5%EB%AA%A8%EC%A0%84/NA_PublicDataContest/django-server/test_vectorDB.ipynb#X13sZmlsZQ%3D%3D?line=3'>4</a>\u001b[0m     where\u001b[39m=\u001b[39;49m{\u001b[39m\"\u001b[39;49m\u001b[39m발의 일자\u001b[39;49m\u001b[39m\"\u001b[39;49m: [\u001b[39m\"\u001b[39;49m\u001b[39mBETWEEN\u001b[39;49m\u001b[39m\"\u001b[39;49m, \u001b[39m'\u001b[39;49m\u001b[39m2023-11-01\u001b[39;49m\u001b[39m'\u001b[39;49m, \u001b[39m'\u001b[39;49m\u001b[39mAND\u001b[39;49m\u001b[39m'\u001b[39;49m, \u001b[39m'\u001b[39;49m\u001b[39m2023-11-23\u001b[39;49m\u001b[39m'\u001b[39;49m]}\n\u001b[1;32m      <a href='vscode-notebook-cell:/c%3A/Users/starp/%EA%B5%AD%ED%9A%8C%EA%B3%B5%EA%B3%B5%EB%8D%B0%EC%9D%B4%ED%84%B0%EA%B3%B5%EB%AA%A8%EC%A0%84/NA_PublicDataContest/django-server/test_vectorDB.ipynb#X13sZmlsZQ%3D%3D?line=4'>5</a>\u001b[0m    \n\u001b[1;32m      <a href='vscode-notebook-cell:/c%3A/Users/starp/%EA%B5%AD%ED%9A%8C%EA%B3%B5%EA%B3%B5%EB%8D%B0%EC%9D%B4%ED%84%B0%EA%B3%B5%EB%AA%A8%EC%A0%84/NA_PublicDataContest/django-server/test_vectorDB.ipynb#X13sZmlsZQ%3D%3D?line=5'>6</a>\u001b[0m )\n",
      "File \u001b[0;32m~/.local/lib/python3.10/site-packages/chromadb/api/models/Collection.py:283\u001b[0m, in \u001b[0;36mCollection.query\u001b[0;34m(self, query_embeddings, query_texts, query_images, query_uris, n_results, where, where_document, include)\u001b[0m\n\u001b[1;32m    273\u001b[0m \u001b[39mif\u001b[39;00m \u001b[39mnot\u001b[39;00m (\n\u001b[1;32m    274\u001b[0m     (query_embeddings \u001b[39mis\u001b[39;00m \u001b[39mnot\u001b[39;00m \u001b[39mNone\u001b[39;00m)\n\u001b[1;32m    275\u001b[0m     \u001b[39m^\u001b[39m (query_texts \u001b[39mis\u001b[39;00m \u001b[39mnot\u001b[39;00m \u001b[39mNone\u001b[39;00m)\n\u001b[1;32m    276\u001b[0m     \u001b[39m^\u001b[39m (query_images \u001b[39mis\u001b[39;00m \u001b[39mnot\u001b[39;00m \u001b[39mNone\u001b[39;00m)\n\u001b[1;32m    277\u001b[0m     \u001b[39m^\u001b[39m (query_uris \u001b[39mis\u001b[39;00m \u001b[39mnot\u001b[39;00m \u001b[39mNone\u001b[39;00m)\n\u001b[1;32m    278\u001b[0m ):\n\u001b[1;32m    279\u001b[0m     \u001b[39mraise\u001b[39;00m \u001b[39mValueError\u001b[39;00m(\n\u001b[1;32m    280\u001b[0m         \u001b[39m\"\u001b[39m\u001b[39mYou must provide one of query_embeddings, query_texts, query_images, or query_uris.\u001b[39m\u001b[39m\"\u001b[39m\n\u001b[1;32m    281\u001b[0m     )\n\u001b[0;32m--> 283\u001b[0m valid_where \u001b[39m=\u001b[39m validate_where(where) \u001b[39mif\u001b[39;00m where \u001b[39melse\u001b[39;00m {}\n\u001b[1;32m    284\u001b[0m valid_where_document \u001b[39m=\u001b[39m (\n\u001b[1;32m    285\u001b[0m     validate_where_document(where_document) \u001b[39mif\u001b[39;00m where_document \u001b[39melse\u001b[39;00m {}\n\u001b[1;32m    286\u001b[0m )\n\u001b[1;32m    287\u001b[0m valid_query_embeddings \u001b[39m=\u001b[39m (\n\u001b[1;32m    288\u001b[0m     validate_embeddings(maybe_cast_one_to_many_embedding(query_embeddings))\n\u001b[1;32m    289\u001b[0m     \u001b[39mif\u001b[39;00m query_embeddings \u001b[39mis\u001b[39;00m \u001b[39mnot\u001b[39;00m \u001b[39mNone\u001b[39;00m\n\u001b[1;32m    290\u001b[0m     \u001b[39melse\u001b[39;00m \u001b[39mNone\u001b[39;00m\n\u001b[1;32m    291\u001b[0m )\n",
      "File \u001b[0;32m~/.local/lib/python3.10/site-packages/chromadb/api/types.py:329\u001b[0m, in \u001b[0;36mvalidate_where\u001b[0;34m(where)\u001b[0m\n\u001b[1;32m    321\u001b[0m     \u001b[39mraise\u001b[39;00m \u001b[39mValueError\u001b[39;00m(\u001b[39mf\u001b[39m\u001b[39m\"\u001b[39m\u001b[39mExpected where key to be a str, got \u001b[39m\u001b[39m{\u001b[39;00mkey\u001b[39m}\u001b[39;00m\u001b[39m\"\u001b[39m)\n\u001b[1;32m    322\u001b[0m \u001b[39mif\u001b[39;00m (\n\u001b[1;32m    323\u001b[0m     key \u001b[39m!=\u001b[39m \u001b[39m\"\u001b[39m\u001b[39m$and\u001b[39m\u001b[39m\"\u001b[39m\n\u001b[1;32m    324\u001b[0m     \u001b[39mand\u001b[39;00m key \u001b[39m!=\u001b[39m \u001b[39m\"\u001b[39m\u001b[39m$or\u001b[39m\u001b[39m\"\u001b[39m\n\u001b[0;32m   (...)\u001b[0m\n\u001b[1;32m    327\u001b[0m     \u001b[39mand\u001b[39;00m \u001b[39mnot\u001b[39;00m \u001b[39misinstance\u001b[39m(value, (\u001b[39mstr\u001b[39m, \u001b[39mint\u001b[39m, \u001b[39mfloat\u001b[39m, \u001b[39mdict\u001b[39m))\n\u001b[1;32m    328\u001b[0m ):\n\u001b[0;32m--> 329\u001b[0m     \u001b[39mraise\u001b[39;00m \u001b[39mValueError\u001b[39;00m(\n\u001b[1;32m    330\u001b[0m         \u001b[39mf\u001b[39m\u001b[39m\"\u001b[39m\u001b[39mExpected where value to be a str, int, float, or operator expression, got \u001b[39m\u001b[39m{\u001b[39;00mvalue\u001b[39m}\u001b[39;00m\u001b[39m\"\u001b[39m\n\u001b[1;32m    331\u001b[0m     )\n\u001b[1;32m    332\u001b[0m \u001b[39mif\u001b[39;00m key \u001b[39m==\u001b[39m \u001b[39m\"\u001b[39m\u001b[39m$and\u001b[39m\u001b[39m\"\u001b[39m \u001b[39mor\u001b[39;00m key \u001b[39m==\u001b[39m \u001b[39m\"\u001b[39m\u001b[39m$or\u001b[39m\u001b[39m\"\u001b[39m:\n\u001b[1;32m    333\u001b[0m     \u001b[39mif\u001b[39;00m \u001b[39mnot\u001b[39;00m \u001b[39misinstance\u001b[39m(value, \u001b[39mlist\u001b[39m):\n",
      "\u001b[0;31mValueError\u001b[0m: Expected where value to be a str, int, float, or operator expression, got ['BETWEEN', '2023-11-01', 'AND', '2023-11-23']"
     ]
    }
   ],
   "source": [
    "collection.query(\n",
    "    query_texts=[\"경찰공무원법\"],\n",
    "    n_results=5,\n",
    "    where={\"발의 일자\":\"2023-11-23\"},\n",
    ")"
   ]
  }
 ],
 "metadata": {
  "kernelspec": {
   "display_name": "Python 3 (ipykernel)",
   "language": "python",
   "name": "python3"
  },
  "language_info": {
   "codemirror_mode": {
    "name": "ipython",
    "version": 3
   },
   "file_extension": ".py",
   "mimetype": "text/x-python",
   "name": "python",
   "nbconvert_exporter": "python",
   "pygments_lexer": "ipython3",
   "version": "3.10.6"
  }
 },
 "nbformat": 4,
 "nbformat_minor": 2
}
