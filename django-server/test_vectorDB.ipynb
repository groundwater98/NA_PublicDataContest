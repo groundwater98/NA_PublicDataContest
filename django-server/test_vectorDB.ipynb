{
 "cells": [
  {
   "cell_type": "code",
   "execution_count": 2,
   "metadata": {},
   "outputs": [],
   "source": [
    "import chromadb\n",
    "import numpy as np\n",
    "import pandas as pd"
   ]
  },
  {
   "cell_type": "markdown",
   "metadata": {},
   "source": [
    "# Vector DB - Chroma DB 구축"
   ]
  },
  {
   "cell_type": "code",
   "execution_count": 2,
   "metadata": {},
   "outputs": [],
   "source": [
    "df = pd.read_csv('날짜별_의정활동.csv')"
   ]
  },
  {
   "cell_type": "code",
   "execution_count": 6,
   "metadata": {},
   "outputs": [],
   "source": [
    "client = chromadb.PersistentClient(path=\"../chromadb\")\n",
    "\n",
    "collection = client.get_or_create_collection(\n",
    "    name=\"law_table\",\n",
    "    metadata={\"hnsw:space\": \"cosine\"}\n",
    ")"
   ]
  },
  {
   "cell_type": "code",
   "execution_count": 4,
   "metadata": {},
   "outputs": [],
   "source": [
    "# 인덱스\n",
    "ids = []\n",
    "# 메타 데이터\n",
    "doc_meta = []\n",
    "# 벡터로 변환 저장할 텍스트 데이터로 ChromaDB에 Embedding 데이터가 없으면 자동으로 벡터로 변환해서 저장한다고 한다. \n",
    "documents = []"
   ]
  },
  {
   "cell_type": "code",
   "execution_count": 5,
   "metadata": {},
   "outputs": [],
   "source": [
    "for idx in range(len(df)):\n",
    "    # iloc: index 위치를 기반으로 df에서 행을 선택\n",
    "    item = df.iloc[idx]\n",
    "    id = item['의안명'].replace(' ', '-')\n",
    "    document = f\"(의안명: {item['의안명']}) (의안 일자: {item['일자']}) (의안번호: {item['의안번호']}) - 단계:{item['단계']}, 세부단계: {item['세부단계']}, 소관위원회: {item['소관위원회']}\"\n",
    "    meta = {\n",
    "        \"카테고리\": item['카테고리']\n",
    "    }\n",
    "    ids.append(id)\n",
    "    doc_meta.append(meta)\n",
    "    documents.append(document)"
   ]
  },
  {
   "cell_type": "markdown",
   "metadata": {},
   "source": [
    "# DB 저장"
   ]
  },
  {
   "cell_type": "code",
   "execution_count": 6,
   "metadata": {},
   "outputs": [],
   "source": [
    "collection.add(\n",
    "    documents = documents,\n",
    "    metadatas=doc_meta,\n",
    "    ids=ids\n",
    ")"
   ]
  },
  {
   "cell_type": "markdown",
   "metadata": {},
   "source": [
    "# DB 쿼리"
   ]
  },
  {
   "cell_type": "code",
   "execution_count": 20,
   "metadata": {},
   "outputs": [
    {
     "data": {
      "text/plain": [
       "{'ids': [['주택법-일부개정법률안(천준호의원등11인)',\n",
       "   '주택법-일부개정법률안(천준호의원-등-12인)',\n",
       "   '주택법-일부개정법률안(김정재의원등11인)',\n",
       "   '주택법-일부개정법률안(이종배의원-등-11인)',\n",
       "   '주택법-일부개정법률안(최인호의원-등-10인)']],\n",
       " 'distances': [[0.6814720630645752,\n",
       "   0.703223705291748,\n",
       "   0.7037798166275024,\n",
       "   0.7217906713485718,\n",
       "   0.7317438125610352]],\n",
       " 'metadatas': [[{'카테고리': '경제'},\n",
       "   {'카테고리': '경제'},\n",
       "   {'카테고리': '경제'},\n",
       "   {'카테고리': '경제'},\n",
       "   {'카테고리': '경제'}]],\n",
       " 'embeddings': None,\n",
       " 'documents': [['(의안명: 주택법 일부개정법률안(천준호의원등11인)) (의안 일자: 2023-11-22) (의안번호: 2120164) - 단계:위원회 심사, 세부단계: 회의, 소관위원회: 국토교통위원회',\n",
       "   '(의안명: 주택법 일부개정법률안(천준호의원 등 12인)) (의안 일자: 2023-11-22) (의안번호: 2118465) - 단계:위원회 심사, 세부단계: 회의, 소관위원회: 국토교통위원회',\n",
       "   '(의안명: 주택법 일부개정법률안(김정재의원등11인)) (의안 일자: 2023-11-22) (의안번호: 2116990) - 단계:위원회 심사, 세부단계: 회의, 소관위원회: 국토교통위원회',\n",
       "   '(의안명: 주택법 일부개정법률안(이종배의원 등 11인)) (의안 일자: 2023-11-22) (의안번호: 2119207) - 단계:위원회 심사, 세부단계: 회의, 소관위원회: 국토교통위원회',\n",
       "   '(의안명: 주택법 일부개정법률안(최인호의원 등 10인)) (의안 일자: 2023-11-22) (의안번호: 2121283) - 단계:위원회 심사, 세부단계: 회의, 소관위원회: 국토교통위원회']]}"
      ]
     },
     "execution_count": 20,
     "metadata": {},
     "output_type": "execute_result"
    }
   ],
   "source": [
    "collection.query(\n",
    "    query_texts=[\"주택\"],\n",
    "    n_results=5,\n",
    "    where={\"카테고리\":\"경제\"},\n",
    "    where_document={\"$contains\": \"주택\"}\n",
    ")"
   ]
  }
 ],
 "metadata": {
  "kernelspec": {
   "display_name": "Python 3 (ipykernel)",
   "language": "python",
   "name": "python3"
  },
  "language_info": {
   "codemirror_mode": {
    "name": "ipython",
    "version": 3
   },
   "file_extension": ".py",
   "mimetype": "text/x-python",
   "name": "python",
   "nbconvert_exporter": "python",
   "pygments_lexer": "ipython3",
   "version": "3.10.6"
  }
 },
 "nbformat": 4,
 "nbformat_minor": 2
}
