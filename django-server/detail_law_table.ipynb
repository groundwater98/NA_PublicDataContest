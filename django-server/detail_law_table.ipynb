{
 "cells": [
  {
   "cell_type": "code",
   "execution_count": 27,
   "metadata": {},
   "outputs": [],
   "source": [
    "import chromadb\n",
    "import numpy as np\n",
    "import pandas as pd"
   ]
  },
  {
   "cell_type": "markdown",
   "metadata": {},
   "source": [
    "# Vector DB - Chroma DB 구축"
   ]
  },
  {
   "cell_type": "code",
   "execution_count": 28,
   "metadata": {},
   "outputs": [],
   "source": [
    "df = pd.read_csv('본회의처리안건_법률안.csv')"
   ]
  },
  {
   "cell_type": "code",
   "execution_count": 29,
   "metadata": {},
   "outputs": [],
   "source": [
    "client = chromadb.PersistentClient(path=\"chromadb\")\n",
    "\n",
    "collection = client.get_or_create_collection(\n",
    "    name=\"detail_law_table\",\n",
    "    metadata={\"hnsw:space\": \"cosine\"}\n",
    ")"
   ]
  },
  {
   "cell_type": "code",
   "execution_count": 30,
   "metadata": {},
   "outputs": [],
   "source": [
    "# 인덱스\n",
    "ids = []\n",
    "# 메타 데이터\n",
    "doc_meta = []\n",
    "# 벡터로 변환 저장할 텍스트 데이터로 ChromaDB에 Embedding 데이터가 없으면 자동으로 벡터로 변환해서 저장한다고 한다. \n",
    "documents = []"
   ]
  },
  {
   "cell_type": "code",
   "execution_count": 31,
   "metadata": {},
   "outputs": [],
   "source": [
    "for idx in range(len(df)):\n",
    "    item = df.iloc[idx]\n",
    "    id = item['의안명'].replace(' ', '-')\n",
    "    document = f\"\"\"(의안명: {item['의안명']}) (제안일: {item['제안일']}) (의결결과: {item['의결결과']}) - (총투표수:{item['총투표수']}, 찬성:{item['찬성']}, 반대:{item['반대']}, 기권:{item['기권']})\n",
    "                 (위원회심사 의결일:{item['위원회심사_의결일']}, 본회의심의 의결일:{item['본회의심의_의결일']}, 정부이송일:{item['정부이송일']}, 공포일:{item['공포일']})\n",
    "                 (링크URL:{item['링크URL']}\"\"\"\n",
    "    meta = {\n",
    "        \"카테고리\": item['카테고리']\n",
    "    }\n",
    "    ids.append(id)\n",
    "    doc_meta.append(meta)\n",
    "    documents.append(document)"
   ]
  },
  {
   "cell_type": "markdown",
   "metadata": {},
   "source": [
    "#  DB 저장"
   ]
  },
  {
   "cell_type": "code",
   "execution_count": 32,
   "metadata": {},
   "outputs": [],
   "source": [
    "collection.add(\n",
    "    documents = documents,\n",
    "    metadatas=doc_meta,\n",
    "    ids=ids\n",
    ")"
   ]
  },
  {
   "cell_type": "markdown",
   "metadata": {},
   "source": [
    "# DB 쿼리  "
   ]
  },
  {
   "cell_type": "code",
   "execution_count": 41,
   "metadata": {},
   "outputs": [
    {
     "data": {
      "text/plain": [
       "{'ids': [['자동차관리법-일부개정법률안(대안)(국토교통위원장)']],\n",
       " 'distances': [[0.6961982250213623]],\n",
       " 'metadatas': [[{'카테고리': '교통'}]],\n",
       " 'embeddings': None,\n",
       " 'documents': [['(의안명: 자동차관리법 일부개정법률안(대안)(국토교통위원장)) (제안일: 2023-08-23) (의결결과: 원안가결) - (총투표수:210.0, 찬성:209.0, 반대:nan, 기권:1.0)\\n                 (위원회심사 의결일:2023-04-20, 본회의심의 의결일:2023-08-24, 정부이송일:2023-09-01, 공포일:2023-09-14)\\n                 (링크URL:https://likms.assembly.go.kr/bill/billDetail.do?billId=PRC_Y2T3W0W4G1C8U1E6P2U2E3W7K2F8D2']]}"
      ]
     },
     "execution_count": 41,
     "metadata": {},
     "output_type": "execute_result"
    }
   ],
   "source": [
    "collection.query(\n",
    "    query_texts=[\"자동차\"],\n",
    "    n_results=5,\n",
    "    where={\"카테고리\":\"교통\"},\n",
    "    where_document={\"$contains\": \"자동차\"}\n",
    ")"
   ]
  }
 ],
 "metadata": {
  "kernelspec": {
   "display_name": "Python 3 (ipykernel)",
   "language": "python",
   "name": "python3"
  }
 },
 "nbformat": 4,
 "nbformat_minor": 2
}
